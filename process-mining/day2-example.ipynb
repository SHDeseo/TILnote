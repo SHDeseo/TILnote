{
 "cells": [
  {
   "cell_type": "markdown",
   "metadata": {},
   "source": [
    "프로세스 마이닝 입력 데이터 구조와 프로세스 분석 기본 개념\n",
    "\n",
    "-프로세스 분석 기본 기념 예제"
   ]
  },
  {
   "cell_type": "code",
   "execution_count": 18,
   "metadata": {},
   "outputs": [
    {
     "data": {
      "text/plain": [
       "datetime.datetime(2017, 6, 10, 10, 0)"
      ]
     },
     "execution_count": 18,
     "metadata": {},
     "output_type": "execute_result"
    }
   ],
   "source": [
    "from dateutil.parser import parse\n",
    "# import datetime\n",
    "\n",
    "# a = '2017-06-10 10:00'\n",
    "# datetime.datetime.strptime(a, '%Y-%m-%d %H:%M')"
   ]
  },
  {
   "cell_type": "code",
   "execution_count": 72,
   "metadata": {},
   "outputs": [],
   "source": [
    "caseId = ['400909207-1', '400909207-2', '400909207-3', '400909207-4']\n",
    "purchaseOrder = ['2017-06-10 10:00','2017-06-10 10:00','2017-06-10 10:00','2017-06-10 10:00']\n",
    "paymentChange = ['2017-06-11 10:00','2017-06-12 10:00','2017-06-13 10:00','2017-06-13 14:00']\n",
    "warehousing = ['2017-06-20 14:00','2017-06-27 14:00','2017-06-30 14:00','2017-06-28 16:00']\n",
    "invoiceReceipt = ['2017-06-21 14:00','2017-06-28 14:00','2017-07-01 14:00','2017-07-08 14:00']\n",
    "\n",
    "\n",
    "ex1 = pd.DataFrame(data = {'caseId' : caseId,'구매오더생성' : purchaseOrder, '계약납기일변경' : paymentChange,\\\n",
    "                           '자재입고' : warehousing,'송장수령': invoiceReceipt})\n",
    "\n",
    "\n",
    "\n",
    "def duration(start, finish):\n",
    "    sta_t = parse(start)\n",
    "    fin_t = parse(finish)\n",
    "    duration_sec = fin_t - sta_t\n",
    "    duration_hour = duration_sec.total_seconds()//3600\n",
    "    return duration_hour\n",
    "\n",
    "def duration_list(start_l, finish_l):\n",
    "    answer = []\n",
    "    for sta, fin in zip(start_l, finish_l):\n",
    "        answer.append(duration(sta, fin))\n",
    "        \n",
    "    return answer\n",
    "    \n",
    "\n",
    "def get_pvt():\n",
    "    \n",
    "    dataset = {\n",
    "        '구매오더생성>계약납기일변경' : duration_list(purchaseOrder, paymentChange) , \n",
    "        '계약납기일변경>자재입고': duration_list(paymentChange, warehousing) , \n",
    "        '자재입고>송장수령': duration_list(warehousing, invoiceReceipt),\n",
    "    }\n",
    "    \n",
    "    pv = pd.DataFrame(data = dataset, index=caseId)\n",
    "    pv['케이스수행기간'] = pv.apply(sum, axis=1)\n",
    "    return pv\n",
    "    \n",
    "pv1 = get_pvt()"
   ]
  },
  {
   "cell_type": "code",
   "execution_count": 80,
   "metadata": {},
   "outputs": [
    {
     "data": {
      "text/html": [
       "<div>\n",
       "<style scoped>\n",
       "    .dataframe tbody tr th:only-of-type {\n",
       "        vertical-align: middle;\n",
       "    }\n",
       "\n",
       "    .dataframe tbody tr th {\n",
       "        vertical-align: top;\n",
       "    }\n",
       "\n",
       "    .dataframe thead th {\n",
       "        text-align: right;\n",
       "    }\n",
       "</style>\n",
       "<table border=\"1\" class=\"dataframe\">\n",
       "  <thead>\n",
       "    <tr style=\"text-align: right;\">\n",
       "      <th></th>\n",
       "      <th>계약납기일변경&gt;자재입고</th>\n",
       "      <th>구매오더생성&gt;계약납기일변경</th>\n",
       "      <th>자재입고&gt;송장수령</th>\n",
       "      <th>케이스수행기간</th>\n",
       "    </tr>\n",
       "  </thead>\n",
       "  <tbody>\n",
       "    <tr>\n",
       "      <th>400909207-1</th>\n",
       "      <td>220.0</td>\n",
       "      <td>24.0</td>\n",
       "      <td>24.0</td>\n",
       "      <td>268.0</td>\n",
       "    </tr>\n",
       "    <tr>\n",
       "      <th>400909207-2</th>\n",
       "      <td>364.0</td>\n",
       "      <td>48.0</td>\n",
       "      <td>24.0</td>\n",
       "      <td>436.0</td>\n",
       "    </tr>\n",
       "    <tr>\n",
       "      <th>400909207-3</th>\n",
       "      <td>412.0</td>\n",
       "      <td>72.0</td>\n",
       "      <td>24.0</td>\n",
       "      <td>508.0</td>\n",
       "    </tr>\n",
       "    <tr>\n",
       "      <th>400909207-4</th>\n",
       "      <td>362.0</td>\n",
       "      <td>76.0</td>\n",
       "      <td>238.0</td>\n",
       "      <td>676.0</td>\n",
       "    </tr>\n",
       "  </tbody>\n",
       "</table>\n",
       "</div>"
      ],
      "text/plain": [
       "             계약납기일변경>자재입고  구매오더생성>계약납기일변경  자재입고>송장수령  케이스수행기간\n",
       "400909207-1         220.0            24.0       24.0    268.0\n",
       "400909207-2         364.0            48.0       24.0    436.0\n",
       "400909207-3         412.0            72.0       24.0    508.0\n",
       "400909207-4         362.0            76.0      238.0    676.0"
      ]
     },
     "execution_count": 80,
     "metadata": {},
     "output_type": "execute_result"
    }
   ],
   "source": [
    "pv1"
   ]
  },
  {
   "cell_type": "code",
   "execution_count": 105,
   "metadata": {},
   "outputs": [
    {
     "data": {
      "text/html": [
       "<div>\n",
       "<style scoped>\n",
       "    .dataframe tbody tr th:only-of-type {\n",
       "        vertical-align: middle;\n",
       "    }\n",
       "\n",
       "    .dataframe tbody tr th {\n",
       "        vertical-align: top;\n",
       "    }\n",
       "\n",
       "    .dataframe thead th {\n",
       "        text-align: right;\n",
       "    }\n",
       "</style>\n",
       "<table border=\"1\" class=\"dataframe\">\n",
       "  <thead>\n",
       "    <tr style=\"text-align: right;\">\n",
       "      <th></th>\n",
       "      <th>계약납기일변경&gt;자재입고</th>\n",
       "      <th>구매오더생성&gt;계약납기일변경</th>\n",
       "      <th>자재입고&gt;송장수령</th>\n",
       "      <th>케이스수행기간</th>\n",
       "    </tr>\n",
       "  </thead>\n",
       "  <tbody>\n",
       "    <tr>\n",
       "      <th>전체</th>\n",
       "      <td>1358.0</td>\n",
       "      <td>220.0</td>\n",
       "      <td>310.0</td>\n",
       "      <td>1888.0</td>\n",
       "    </tr>\n",
       "    <tr>\n",
       "      <th>평균</th>\n",
       "      <td>340.0</td>\n",
       "      <td>55.0</td>\n",
       "      <td>78.0</td>\n",
       "      <td>472.0</td>\n",
       "    </tr>\n",
       "    <tr>\n",
       "      <th>중간값</th>\n",
       "      <td>363.0</td>\n",
       "      <td>60.0</td>\n",
       "      <td>24.0</td>\n",
       "      <td>472.0</td>\n",
       "    </tr>\n",
       "    <tr>\n",
       "      <th>최댓값</th>\n",
       "      <td>412.0</td>\n",
       "      <td>76.0</td>\n",
       "      <td>238.0</td>\n",
       "      <td>676.0</td>\n",
       "    </tr>\n",
       "    <tr>\n",
       "      <th>최솟값</th>\n",
       "      <td>220.0</td>\n",
       "      <td>24.0</td>\n",
       "      <td>24.0</td>\n",
       "      <td>268.0</td>\n",
       "    </tr>\n",
       "  </tbody>\n",
       "</table>\n",
       "</div>"
      ],
      "text/plain": [
       "     계약납기일변경>자재입고  구매오더생성>계약납기일변경  자재입고>송장수령  케이스수행기간\n",
       "전체         1358.0           220.0      310.0   1888.0\n",
       "평균          340.0            55.0       78.0    472.0\n",
       "중간값         363.0            60.0       24.0    472.0\n",
       "최댓값         412.0            76.0      238.0    676.0\n",
       "최솟값         220.0            24.0       24.0    268.0"
      ]
     },
     "execution_count": 105,
     "metadata": {},
     "output_type": "execute_result"
    }
   ],
   "source": [
    "def get_indice(col):\n",
    "    answer = [col.sum(), col.mean(), col.median(), col.max(), col.min()]\n",
    "    answer = [round(x) for x in answer]\n",
    "    return answer\n",
    "\n",
    "\n",
    "def get_indice_table(pv):\n",
    "    indice = {}\n",
    "    \n",
    "    for col in pv.columns:\n",
    "        indice[col] = get_indice(pv[col])\n",
    "    \n",
    "    idx_list = ['전체','평균','중간값','최댓값','최솟값']\n",
    "    \n",
    "    indice_table = pd.DataFrame(data = indice, index = idx_list)\n",
    "    \n",
    "    return indice_table\n",
    "\n",
    "get_indice_table(pv1)"
   ]
  },
  {
   "cell_type": "code",
   "execution_count": null,
   "metadata": {},
   "outputs": [],
   "source": []
  }
 ],
 "metadata": {
  "kernelspec": {
   "display_name": "Python 3",
   "language": "python",
   "name": "python3"
  },
  "language_info": {
   "codemirror_mode": {
    "name": "ipython",
    "version": 3
   },
   "file_extension": ".py",
   "mimetype": "text/x-python",
   "name": "python",
   "nbconvert_exporter": "python",
   "pygments_lexer": "ipython3",
   "version": "3.6.4"
  },
  "toc": {
   "base_numbering": 1,
   "nav_menu": {},
   "number_sections": true,
   "sideBar": true,
   "skip_h1_title": false,
   "title_cell": "Table of Contents",
   "title_sidebar": "Contents",
   "toc_cell": false,
   "toc_position": {},
   "toc_section_display": true,
   "toc_window_display": false
  }
 },
 "nbformat": 4,
 "nbformat_minor": 2
}
