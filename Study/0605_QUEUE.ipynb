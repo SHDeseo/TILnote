{
 "cells": [
  {
   "cell_type": "markdown",
   "metadata": {},
   "source": [
    "큐 구현하기"
   ]
  },
  {
   "cell_type": "code",
   "execution_count": 34,
   "metadata": {},
   "outputs": [
    {
     "name": "stdout",
     "output_type": "stream",
     "text": [
      " 3\n",
      " return\n",
      " push 3\n",
      " pop\n",
      " empty\n",
      "-1\n",
      "1\n"
     ]
    }
   ],
   "source": [
    "N = int(input(\" \"))\n",
    "que = []    # push된 값이 저장\n",
    "result = []    # 출력되는 결과\n",
    "def empty():     #empty 명령어를 함수로 정의 (비어있으면 1, 아니면 0)\n",
    "    if len(que) == 0:\n",
    "        return 1\n",
    "    else:\n",
    "        return 0\n",
    "\n",
    "for _ in range(N):      #입력받은 수 대로 반복\n",
    "    \n",
    "    order = input(\" \")  #명령어를 받습니다\n",
    "    e = -1              #que가 비어있을 때 출력되는 -1\n",
    "     \n",
    "\n",
    "    if order[:4] == \"push\" :\n",
    "        que.append(int(order[5:]))\n",
    "    \n",
    "    elif order == \"pop\" :\n",
    "        if empty() == 0:\n",
    "            result.append(que.pop(0))\n",
    "        else:\n",
    "            result.append(e)          \n",
    "    \n",
    "    elif order == \"empty\":\n",
    "        result.append(empty())\n",
    "    \n",
    "    elif order == \"front\":\n",
    "        if empty() == 0 :\n",
    "            result.append(que[0]) \n",
    "        else:\n",
    "            result.append(e) \n",
    "                \n",
    "    \n",
    "    elif order == \"back\" :\n",
    "        if empty() == 0 :\n",
    "            result.append(que[len(que)-1])\n",
    "        else:\n",
    "            result.append(e)    \n",
    "                \n",
    "    elif order == \"size\" :\n",
    "        result.append(len(que))\n",
    "    else:\n",
    "        order = input(\" \") # 위의 명령어가 아닐 경우 다시 input 받도록 \n",
    "        \n",
    "        \n",
    "for i in result:     #저장된 결과를 일렬로 출력합니다\n",
    "    print(i)"
   ]
  },
  {
   "cell_type": "markdown",
   "metadata": {},
   "source": [
    "큐를 이용한 조세퍼드 문제"
   ]
  },
  {
   "cell_type": "code",
   "execution_count": 20,
   "metadata": {},
   "outputs": [
    {
     "name": "stdout",
     "output_type": "stream",
     "text": [
      " 7 3\n",
      "[3, 6, 2, 7, 5, 1, 4]\n"
     ]
    }
   ],
   "source": [
    "#혜신님 코드에서 map을 참고한 코드#\n",
    "\n",
    "N, M = map(int, input(\" \").split(\" \") )\n",
    "circle = list(range(1,N+1))  #원에 앉은 N명의 사람\n",
    "count = 0              #M번째 사람을 찾기 위한 상수\n",
    "result = []     #제거되는 순서대로 저장될 결과 아웃풋\n",
    "\n",
    "\n",
    "while len(circle) > 0:  \n",
    "    count += 1\n",
    "    if count == M :\n",
    "        result.append(circle.pop(0))\n",
    "        count = 0\n",
    "    else:\n",
    "        circle.append(circle.pop(0))\n",
    "\n",
    "print(result)"
   ]
  },
  {
   "cell_type": "code",
   "execution_count": 23,
   "metadata": {},
   "outputs": [
    {
     "name": "stdout",
     "output_type": "stream",
     "text": [
      " 8 6\n",
      "[6, 4, 3, 5, 8, 7, 2, 1]\n"
     ]
    }
   ],
   "source": [
    "#기존코드#\n",
    "\n",
    "def jo(N,M) :\n",
    "    count = 0              #M번째 사람을 찾기 위한 상수\n",
    "    result = []      #제거되는 순서대로 저장될 결과 아웃풋\n",
    "    circle = list(range(1,N+1))  #원에 앉은 N명의 사람\n",
    "    while len(circle) > 0:  \n",
    "        count += 1\n",
    "        if count == M :\n",
    "            result.append(circle.pop(0))\n",
    "            count = 0\n",
    "        else:\n",
    "            circle.append(circle.pop(0))\n",
    "\n",
    "    print(result)\n",
    "\n",
    "number = input(\" \")\n",
    "N = int(number[0])\n",
    "M = int(number[2])\n",
    "jo(N,M)"
   ]
  },
  {
   "cell_type": "code",
   "execution_count": 11,
   "metadata": {},
   "outputs": [
    {
     "name": "stdout",
     "output_type": "stream",
     "text": [
      " 7 3\n",
      "[3, 6, 2, 7, 5, 1, 4]\n"
     ]
    }
   ],
   "source": [
    "def jo(N,M) :\n",
    "    count = 0              #M번째 사람을 찾기 위한 상수\n",
    "    while len(circle) > 0:  \n",
    "        count += 1\n",
    "        if count == M :\n",
    "            result.append(circle.pop(0))\n",
    "            count = 0\n",
    "        else:\n",
    "            circle.append(circle.pop(0))\n",
    "\n",
    "    print(result)\n",
    "\n",
    "number = input(\" \")\n",
    "N = int(number[0])\n",
    "M = int(number[2])\n",
    "result = []     #제거되는 순서대로 저장될 결과 아웃풋\n",
    "circle = list(range(1,N+1))  #원에 앉은 N명의 사람\n",
    "\n",
    "jo(N,M)"
   ]
  },
  {
   "cell_type": "markdown",
   "metadata": {},
   "source": [
    "민수님의 조세퍼드 문제"
   ]
  },
  {
   "cell_type": "code",
   "execution_count": 13,
   "metadata": {},
   "outputs": [
    {
     "ename": "IndentationError",
     "evalue": "unindent does not match any outer indentation level (<tokenize>, line 17)",
     "output_type": "error",
     "traceback": [
      "\u001b[1;36m  File \u001b[1;32m\"<tokenize>\"\u001b[1;36m, line \u001b[1;32m17\u001b[0m\n\u001b[1;33m    else :\u001b[0m\n\u001b[1;37m    ^\u001b[0m\n\u001b[1;31mIndentationError\u001b[0m\u001b[1;31m:\u001b[0m unindent does not match any outer indentation level\n"
     ]
    }
   ],
   "source": [
    "\n",
    "\n",
    "command = input().split(\" \")\n",
    "\n",
    "N_list = []\n",
    "result = \",\"\n",
    "N = int(command[0])\n",
    "M = int(command[1])\n",
    "\n",
    "for a in range(1, N+1) :\n",
    "   N_list.append(a)\n",
    "\n",
    "m = -1\n",
    "for _ in range(N) :\n",
    "   m = m+M\n",
    "   if m <=len(N_list)-1 :\n",
    "       result = result+str(N_list.pop(m))+\", \"\n",
    "       m=m-1\n",
    "   else :\n",
    "       m = m-(len(N_list))\n",
    "       if m > len(N_list)-1 :\n",
    "           m = m-(len(N_list))\n",
    "           result = result+str(N_list.pop(m))+\", \"\n",
    "           result = result+str(N_list.pop(0))+\", \"\n",
    "           break\n",
    "       else :\n",
    "           result = result+str(N_list.pop(m))+\", \"\n",
    "           m=m-1\n",
    "result=\"<\"+result[1:len(result)-2]+\">\"\n",
    "print(result)"
   ]
  }
 ],
 "metadata": {
  "kernelspec": {
   "display_name": "Python 3",
   "language": "python",
   "name": "python3"
  },
  "language_info": {
   "codemirror_mode": {
    "name": "ipython",
    "version": 3
   },
   "file_extension": ".py",
   "mimetype": "text/x-python",
   "name": "python",
   "nbconvert_exporter": "python",
   "pygments_lexer": "ipython3",
   "version": "3.6.4"
  }
 },
 "nbformat": 4,
 "nbformat_minor": 2
}
