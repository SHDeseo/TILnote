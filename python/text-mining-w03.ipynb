{
 "cells": [
  {
   "cell_type": "code",
   "execution_count": null,
   "metadata": {},
   "outputs": [],
   "source": [
    "import csv\n",
    "import ujson\n",
    "from konlpy.tag import Komoran\n",
    "import re"
   ]
  },
  {
   "cell_type": "markdown",
   "metadata": {},
   "source": [
    "# 한국어의 인코딩"
   ]
  },
  {
   "cell_type": "markdown",
   "metadata": {},
   "source": [
    "utf-8 with BOM 일 경우 encoding 파라미터에 \"utf-8-sig\"를 넘긴다 \n",
    "   \n",
    "   ex. with open('../data/file.csv', encoding = \"utf-8-sig\") as file:\n"
   ]
  },
  {
   "cell_type": "markdown",
   "metadata": {},
   "source": [
    "# 정규표현식을 이용한 문장 분절 "
   ]
  },
  {
   "cell_type": "code",
   "execution_count": 31,
   "metadata": {},
   "outputs": [
    {
     "data": {
      "text/plain": [
       "['사회에 만연한 신종 디지털 성범죄 사건?',\n",
       " '답답한 현실과 달리 영화에선 속 시원하게 해결!',\n",
       " '악당들에게 일격을 가하는 핵사이다 수사극의 등장.',\n",
       " '“시나리오를 쓰면서 몰래 카메라를 찍고 유포하는 것이 가장 비열하고 추악한 범죄라는 생각이 들었다.',\n",
       " '두 여성을 전면에 내세운 액션 영화로 성범죄자들을 추적하는 유쾌하고 신나는 영화를 만들고 싶었다”고 연출 의도를 전한 정다원 감독은 사회적인 문제로 대두되고 있는 마약, 성범죄, 몰래 카메라 촬영, 음란사이트 개설, 불법 동영상 온라인 유포로 이어지는 신종 디지털 성범죄 사건을 속 시원하게 해결하는 수사극을 선보인다.']"
      ]
     },
     "execution_count": 31,
     "metadata": {},
     "output_type": "execute_result"
    }
   ],
   "source": [
    "import re\n",
    "\n",
    "sentences= \"\"\"\n",
    "사회에 만연한 신종 디지털 성범죄 사건? 답답한 현실과 달리 영화에선 속 시원하게 해결! 악당들에게 일격을 가하는 핵사이다 수사극의 등장. “시나리오를 쓰면서 몰래 카메라를 찍고 유포하는 것이 가장 비열하고 추악한 범죄라는 생각이 들었다. 두 여성을 전면에 내세운 액션 영화로 성범죄자들을 추적하는 유쾌하고 신나는 영화를 만들고 싶었다”고 연출 의도를 전한 정다원 감독은 사회적인 문제로 대두되고 있는 마약, 성범죄, 몰래 카메라 촬영, 음란사이트 개설, 불법 동영상 온라인 유포로 이어지는 신종 디지털 성범죄 사건을 속 시원하게 해결하는 수사극을 선보인다. \n",
    "\n",
    "\"\"\"\n",
    "\n",
    "sentences = re.split(\"(?<=[.?!])\\s+\", line)\n",
    "sentences = [s.strip() for s in sentences if s.strip()]\n",
    "\n",
    "sentences"
   ]
  },
  {
   "cell_type": "markdown",
   "metadata": {},
   "source": [
    "# csv 불러오기"
   ]
  },
  {
   "cell_type": "markdown",
   "metadata": {},
   "source": [
    "## csv 모듈을 사용하지 않을 때 "
   ]
  },
  {
   "cell_type": "code",
   "execution_count": null,
   "metadata": {},
   "outputs": [],
   "source": [
    "import csv\n",
    "from pprint import pprint\n",
    "\n",
    "input_file_name = \"../data/file.csv\"\n",
    "data = []\n",
    "\n",
    "with open(input_file_name, \"r\", encoding=\"utf-8-sig\") as input_file:\n",
    "    for i, line in enumerate(input_file):\n",
    "        if i == 0:\n",
    "            continue\n",
    "            \n",
    "        line = line.strip()\n",
    "        line = line[1:-1]\n",
    "        cols = line.split('\",\"')\n",
    "        data.append(cols)\n",
    "        \n",
    "pprint(data[:5])"
   ]
  },
  {
   "cell_type": "markdown",
   "metadata": {},
   "source": [
    "## csv 모듈을 사용할 때\n",
    "\n",
    "줄바꿈, 레코드 구분이 일치하지 않을 때 (멀티 레코드, "
   ]
  },
  {
   "cell_type": "code",
   "execution_count": null,
   "metadata": {},
   "outputs": [],
   "source": [
    "import csv\n",
    "from pprint import pprint\n",
    "\n",
    "input_file_name = \"../data/file.csv\"\n",
    "data = []\n",
    "\n",
    "# newline=\"\"와 같이 지정.\n",
    "with open(input_file_name, \"r\", encoding=\"utf-8-sig\", newline=\"\") as input_file:\n",
    "    reader = csv.reader(input_file)\n",
    "    # csv 모듈이 인텔렉춸하게 줄바꿈과 구분을 수행\n",
    "\n",
    "    for i, row in enumerate(reader):\n",
    "        if i == 0:\n",
    "            # 칼럼 명은 패스\n",
    "            continue\n",
    "            \n",
    "        data.append(row)"
   ]
  },
  {
   "cell_type": "markdown",
   "metadata": {},
   "source": [
    "#  txt 불러오기\n",
    "\n",
    "referance: https://www.opentutorials.org/module/2980/17643"
   ]
  },
  {
   "cell_type": "markdown",
   "metadata": {},
   "source": [
    "## str으로 출력 "
   ]
  },
  {
   "cell_type": "code",
   "execution_count": null,
   "metadata": {},
   "outputs": [],
   "source": [
    "input_file_name = '../data/lyrics.txt'        \n",
    "\n",
    "with open(input_file_name, 'r',encoding=\"utf-8\") as input_file:\n",
    "    lyripcs = input_file.read()\n"
   ]
  },
  {
   "cell_type": "markdown",
   "metadata": {},
   "source": [
    "## list로 출력 "
   ]
  },
  {
   "cell_type": "code",
   "execution_count": null,
   "metadata": {},
   "outputs": [],
   "source": [
    "input_file_name = '../data/lyrics.txt'        \n",
    "\n",
    "with open(input_file_name, 'r',encoding=\"utf-8\") as input_file:\n",
    "    lyrics = lyrics.readlines()\n"
   ]
  },
  {
   "cell_type": "markdown",
   "metadata": {},
   "source": [
    "# JSON과 JSON 라인\n",
    "\n",
    "json은 key와 value로 이루어진 디렉토리 오브젝트 하나. 반정형 데이터.\n",
    "\n",
    "jsonl 은 레코드 한 줄이 json인 형태. 리스트로 리턴할 수 있다."
   ]
  },
  {
   "cell_type": "markdown",
   "metadata": {},
   "source": [
    "## JSON 읽기"
   ]
  },
  {
   "cell_type": "code",
   "execution_count": null,
   "metadata": {},
   "outputs": [],
   "source": [
    "import ujson\n",
    "\n",
    "input_file_name = \"../data/file.json\"\n",
    "\n",
    "with open(input_file_name, \"r\", encoding=\"utf-8\") as input_file:\n",
    "    text = input_file.read()\n",
    "    \n",
    "data = ujson.loads(text)\n"
   ]
  },
  {
   "cell_type": "markdown",
   "metadata": {},
   "source": [
    "## JSON LINE 읽기 "
   ]
  },
  {
   "cell_type": "code",
   "execution_count": null,
   "metadata": {},
   "outputs": [],
   "source": [
    "import ujson\n",
    "\n",
    "input_file_name = \"../data/file.jsonl\"\n",
    "data = []\n",
    "\n",
    "with open(input_file_name, \"r\", encoding=\"utf-8\") as input_file:\n",
    "    for line in input_file:\n",
    "        datum = ujson.loads(line)\n",
    "        data.append(datum)\n"
   ]
  },
  {
   "cell_type": "markdown",
   "metadata": {},
   "source": [
    "## DICTIONARY >>  JSON LINE\n",
    "ujons과 print()를 이용해 json line 쓰기"
   ]
  },
  {
   "cell_type": "code",
   "execution_count": null,
   "metadata": {},
   "outputs": [],
   "source": [
    "output_file_name = '../data/file.jsonl'\n",
    "\n",
    "dictionary_list = [ \n",
    "{'key1':'val1'},\n",
    "{'key2': 'val2'},\n",
    "{'key3': 'val3'}]\n",
    "\n",
    "with open(output_file_name, 'w', encoding=\"utf-8\") as output_file:\n",
    "    for datum in dictionary_list:\n",
    "        print(ujson.dumps(datum, ensure_ascii=False), file= output_file,\\\n",
    "              flush=True)\n"
   ]
  }
 ],
 "metadata": {
  "kernelspec": {
   "display_name": "Python 3",
   "language": "python",
   "name": "python3"
  },
  "language_info": {
   "codemirror_mode": {
    "name": "ipython",
    "version": 3
   },
   "file_extension": ".py",
   "mimetype": "text/x-python",
   "name": "python",
   "nbconvert_exporter": "python",
   "pygments_lexer": "ipython3",
   "version": "3.6.4"
  },
  "toc": {
   "base_numbering": 1,
   "nav_menu": {},
   "number_sections": true,
   "sideBar": true,
   "skip_h1_title": false,
   "title_cell": "Table of Contents",
   "title_sidebar": "Contents",
   "toc_cell": false,
   "toc_position": {},
   "toc_section_display": true,
   "toc_window_display": false
  }
 },
 "nbformat": 4,
 "nbformat_minor": 2
}
