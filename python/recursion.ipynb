{
 "cells": [
  {
   "cell_type": "code",
   "execution_count": 2,
   "metadata": {},
   "outputs": [
    {
     "name": "stdout",
     "output_type": "stream",
     "text": [
      "Hello...\n",
      "Hello...\n",
      "Hello...\n",
      "Hello...\n"
     ]
    }
   ],
   "source": [
    "# 알고리즘 - 권오흠\n",
    "# 1-1강\n",
    "# recursion을 반복하다보면 base case로 수렴해야 한다\n",
    "\n",
    "def func(k):\n",
    "    if k <= 0:   # base case\n",
    "        return  \n",
    "    else:\n",
    "        print(\"Hello...\")\n",
    "        func(k-1)  # recursive case\n",
    "\n",
    "func(4)"
   ]
  },
  {
   "cell_type": "code",
   "execution_count": 5,
   "metadata": {},
   "outputs": [
    {
     "data": {
      "text/plain": [
       "10"
      ]
     },
     "execution_count": 5,
     "metadata": {},
     "output_type": "execute_result"
    }
   ],
   "source": [
    "def func(k):\n",
    "    if k <= 0:\n",
    "        return 0\n",
    "    else:\n",
    "        return k + func(k-1)\n",
    "func(4)"
   ]
  },
  {
   "cell_type": "code",
   "execution_count": 8,
   "metadata": {},
   "outputs": [
    {
     "data": {
      "text/plain": [
       "90.0"
      ]
     },
     "execution_count": 8,
     "metadata": {},
     "output_type": "execute_result"
    }
   ],
   "source": [
    "def func(k) :\n",
    "    if k <=1 :\n",
    "        return 1\n",
    "    else:\n",
    "        return k * func(k-1)\n",
    "\n",
    "func(10) / func(8)"
   ]
  },
  {
   "cell_type": "code",
   "execution_count": 11,
   "metadata": {},
   "outputs": [
    {
     "data": {
      "text/plain": [
       "1024"
      ]
     },
     "execution_count": 11,
     "metadata": {},
     "output_type": "execute_result"
    }
   ],
   "source": [
    "def func(x,n) :\n",
    "    if n <= 0 :\n",
    "        return 1\n",
    "    else:\n",
    "        return x * func(x,n-1)\n",
    "    \n",
    "func(2,10)"
   ]
  },
  {
   "cell_type": "code",
   "execution_count": 22,
   "metadata": {},
   "outputs": [
    {
     "data": {
      "text/plain": [
       "55"
      ]
     },
     "execution_count": 22,
     "metadata": {},
     "output_type": "execute_result"
    }
   ],
   "source": [
    "def func(n):\n",
    "    if n == 0 :\n",
    "        return 0\n",
    "    else:\n",
    "        return n + func(n-1)\n",
    "    \n",
    "func(10)"
   ]
  },
  {
   "cell_type": "code",
   "execution_count": 24,
   "metadata": {},
   "outputs": [
    {
     "data": {
      "text/plain": [
       "89"
      ]
     },
     "execution_count": 24,
     "metadata": {},
     "output_type": "execute_result"
    }
   ],
   "source": [
    "def fibonacci(n):\n",
    "    if n <= 2:\n",
    "        return 1\n",
    "    else:\n",
    "        return fibonacci(n-1) + fibonacci(n-2)\n",
    "\n",
    "fibonacci(11)"
   ]
  },
  {
   "cell_type": "code",
   "execution_count": 26,
   "metadata": {},
   "outputs": [
    {
     "data": {
      "text/plain": [
       "3"
      ]
     },
     "execution_count": 26,
     "metadata": {},
     "output_type": "execute_result"
    }
   ],
   "source": [
    "#Euclid Method\n",
    "\n",
    "def gcd(q, p):\n",
    "    if q<p :\n",
    "        q = p\n",
    "    \n",
    "    if q % p == 0:\n",
    "        return p\n",
    "    else:\n",
    "        return gcd(p, q%p)\n",
    "\n",
    "gcd(81, 6)"
   ]
  },
  {
   "cell_type": "code",
   "execution_count": 30,
   "metadata": {},
   "outputs": [
    {
     "data": {
      "text/plain": [
       "3"
      ]
     },
     "execution_count": 30,
     "metadata": {},
     "output_type": "execute_result"
    }
   ],
   "source": [
    "def gcd(q,p):\n",
    "    if p == 0 :\n",
    "        return q\n",
    "    else:\n",
    "        return gcd(p, q%p) # if p > q then q%p = p 이기 때문에!!\n",
    "    \n",
    "gcd(6, 81)"
   ]
  },
  {
   "cell_type": "code",
   "execution_count": 54,
   "metadata": {},
   "outputs": [
    {
     "data": {
      "text/plain": [
       "6"
      ]
     },
     "execution_count": 54,
     "metadata": {},
     "output_type": "execute_result"
    }
   ],
   "source": [
    "# 1-2강\n",
    "\n",
    "def func(string):\n",
    "    if string == \"\":\n",
    "        return 0    \n",
    "    else:\n",
    "        return 1 + func(string[1:])\n",
    "    \n",
    "func(\"sixxxx\")"
   ]
  },
  {
   "cell_type": "code",
   "execution_count": 59,
   "metadata": {},
   "outputs": [
    {
     "name": "stdout",
     "output_type": "stream",
     "text": [
      "go reverse\n",
      "go reverse\n",
      "go reverse\n",
      "x\n",
      "i\n",
      "s\n"
     ]
    }
   ],
   "source": [
    "def reverse(string):\n",
    "    if  len(string) == 0:\n",
    "        return\n",
    "    \n",
    "    else:\n",
    "        print(\"go reverse\")\n",
    "        reverse(string[1:])\n",
    "        print(string[0])\n",
    "\n",
    "reverse(\"six\")"
   ]
  },
  {
   "cell_type": "code",
   "execution_count": 60,
   "metadata": {},
   "outputs": [
    {
     "name": "stdout",
     "output_type": "stream",
     "text": [
      "1\n",
      "0\n",
      "1\n",
      "0\n"
     ]
    }
   ],
   "source": [
    "def printbinary(n):\n",
    "    if n < 2:\n",
    "        print(n)\n",
    "    else:\n",
    "        printbinary(n//2)\n",
    "        print(n%2)\n",
    "        \n",
    "printbinary(10)       \n",
    "    "
   ]
  },
  {
   "cell_type": "code",
   "execution_count": 62,
   "metadata": {},
   "outputs": [
    {
     "data": {
      "text/plain": [
       "5"
      ]
     },
     "execution_count": 62,
     "metadata": {},
     "output_type": "execute_result"
    }
   ],
   "source": [
    "def summing(n, data):\n",
    "    if n < 1  :\n",
    "        return 0  \n",
    "    else:\n",
    "        return summing(n-1, data) + data[n-1] \n",
    "    \n",
    "summing(1, [5])"
   ]
  },
  {
   "cell_type": "code",
   "execution_count": 90,
   "metadata": {},
   "outputs": [],
   "source": [
    "def readFrom(n, data, input_file):\n",
    "    if n == 0 :\n",
    "        return\n",
    "    \n",
    "    else:\n",
    "        readFrom(n-1, data, input_file[1:])\n",
    "        data[n-1] = input_file[0]"
   ]
  },
  {
   "cell_type": "code",
   "execution_count": 88,
   "metadata": {},
   "outputs": [],
   "source": [
    "input_file = \"./test.text\"\n",
    "with open(input_file, 'w') as test:\n",
    "    for idx in range(10):\n",
    "        test.write(\"{}\\n\".format(idx))"
   ]
  },
  {
   "cell_type": "code",
   "execution_count": 93,
   "metadata": {},
   "outputs": [
    {
     "data": {
      "text/plain": [
       "['9\\n', '8\\n', '7\\n', '6\\n', '5\\n', '4\\n', '3\\n', '2\\n', '1\\n', '0\\n']"
      ]
     },
     "execution_count": 93,
     "metadata": {},
     "output_type": "execute_result"
    }
   ],
   "source": [
    "data = [\"\"] * 10\n",
    "with open(input_file, 'r') as test:\n",
    "    readFrom(10, data, test.readlines())\n",
    "data"
   ]
  }
 ],
 "metadata": {
  "kernelspec": {
   "display_name": "Python 3",
   "language": "python",
   "name": "python3"
  },
  "language_info": {
   "codemirror_mode": {
    "name": "ipython",
    "version": 3
   },
   "file_extension": ".py",
   "mimetype": "text/x-python",
   "name": "python",
   "nbconvert_exporter": "python",
   "pygments_lexer": "ipython3",
   "version": "3.6.4"
  },
  "toc": {
   "base_numbering": 1,
   "nav_menu": {},
   "number_sections": true,
   "sideBar": true,
   "skip_h1_title": false,
   "title_cell": "Table of Contents",
   "title_sidebar": "Contents",
   "toc_cell": false,
   "toc_position": {},
   "toc_section_display": true,
   "toc_window_display": false
  }
 },
 "nbformat": 4,
 "nbformat_minor": 2
}
